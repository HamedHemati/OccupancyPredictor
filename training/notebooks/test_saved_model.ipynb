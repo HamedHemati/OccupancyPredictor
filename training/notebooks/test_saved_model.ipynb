{
 "cells": [
  {
   "cell_type": "markdown",
   "id": "eae5b39b-35b7-4bbb-b6d9-5dee01599bfe",
   "metadata": {},
   "source": [
    "### Notebook for loading and testing a saved model from after a training process"
   ]
  },
  {
   "cell_type": "code",
   "execution_count": 1,
   "id": "df73d4fc-37d7-4e55-bb29-3c7632f7c454",
   "metadata": {},
   "outputs": [],
   "source": [
    "import os\n",
    "os.chdir(\"../\")"
   ]
  },
  {
   "cell_type": "code",
   "execution_count": 2,
   "id": "95e339b8-301d-44bb-b7de-36d28c96c925",
   "metadata": {},
   "outputs": [],
   "source": [
    "import xgboost as xgb\n",
    "\n",
    "from room_occupancy.model import get_model\n",
    "from room_occupancy.data_utils import load_dataset\n"
   ]
  },
  {
   "cell_type": "code",
   "execution_count": 3,
   "id": "5a7a9469-4c35-4dcd-83c9-2e0282f021d8",
   "metadata": {},
   "outputs": [],
   "source": [
    "# Load model and set features\n",
    "feature_names = [\"Temperature\", \"Humidity\", \"Light\", \"CO2\", \"HumidityRatio\"]\n",
    "model = get_model()\n",
    "model.load_model(\"../output/model.bin\") # Path to the saved model binary\n"
   ]
  },
  {
   "cell_type": "code",
   "execution_count": 4,
   "id": "ff8a3548-3a52-4cf1-8074-a6091ba6ed38",
   "metadata": {},
   "outputs": [],
   "source": [
    "# Load dataset\n",
    "X, y = load_dataset(\"../data/original/datatest2.txt\")\n"
   ]
  },
  {
   "cell_type": "code",
   "execution_count": 5,
   "id": "128802fa-b86f-4e7b-9084-9b4239b17938",
   "metadata": {},
   "outputs": [],
   "source": [
    "# Make prediction\n",
    "pred = model.predict(X) \n"
   ]
  },
  {
   "cell_type": "code",
   "execution_count": 8,
   "id": "e71d0af1-e171-4421-9ab7-62e4173de4cb",
   "metadata": {},
   "outputs": [
    {
     "name": "stdout",
     "output_type": "stream",
     "text": [
      "Accuracy:  95.83675143560295 %\n"
     ]
    }
   ],
   "source": [
    "# Accuracy\n",
    "corrects = (pred == y).sum()\n",
    "accuracy = corrects / len(y)\n",
    "print(\"Accuracy: \", accuracy * 100.0, \"%\")"
   ]
  },
  {
   "cell_type": "code",
   "execution_count": null,
   "id": "04f3405e-d883-49ed-9fdc-9084b421a865",
   "metadata": {},
   "outputs": [],
   "source": []
  }
 ],
 "metadata": {
  "kernelspec": {
   "display_name": "Python 3 (ipykernel)",
   "language": "python",
   "name": "python3"
  },
  "language_info": {
   "codemirror_mode": {
    "name": "ipython",
    "version": 3
   },
   "file_extension": ".py",
   "mimetype": "text/x-python",
   "name": "python",
   "nbconvert_exporter": "python",
   "pygments_lexer": "ipython3",
   "version": "3.13.0"
  }
 },
 "nbformat": 4,
 "nbformat_minor": 5
}
